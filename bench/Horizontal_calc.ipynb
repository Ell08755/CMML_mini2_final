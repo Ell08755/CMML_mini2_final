{
 "cells": [
  {
   "cell_type": "code",
   "execution_count": 1,
   "id": "b84311d3-6a1f-4b97-a846-17ad50dc9d7e",
   "metadata": {},
   "outputs": [
    {
     "name": "stderr",
     "output_type": "stream",
     "text": [
      "/root/miniconda3/envs/metric-env/lib/python3.11/site-packages/tqdm/auto.py:21: TqdmWarning: IProgress not found. Please update jupyter and ipywidgets. See https://ipywidgets.readthedocs.io/en/stable/user_install.html\n",
      "  from .autonotebook import tqdm as notebook_tqdm\n",
      "/root/miniconda3/envs/metric-env/lib/python3.11/site-packages/umap/__init__.py:9: ImportWarning: Tensorflow not installed; ParametricUMAP will be unavailable\n",
      "  warn(\n"
     ]
    }
   ],
   "source": [
    "# This is code to compute horizontal integration results\n",
    "import os, sys\n",
    "import numpy as np\n",
    "import scanpy as sc\n",
    "import pandas as pd\n",
    "from scipy.sparse import csr_matrix, coo_matrix\n",
    "import scipy\n",
    "from scipy import sparse\n",
    "import importlib\n",
    "\n",
    "import anndata as ad\n",
    "from scipy.io import mmread, mmwrite\n",
    "\n",
    "import matplotlib.pyplot as plt\n",
    "import seaborn as sns\n",
    "\n",
    "import scib\n",
    "import scib_metrics\n",
    "from scib_metrics.benchmark import Benchmarker\n",
    "\n",
    "from typing import Any, Callable, Optional, Union"
   ]
  },
  {
   "cell_type": "code",
   "execution_count": 2,
   "id": "29984b8c-7cbd-416c-b688-3a585e829176",
   "metadata": {},
   "outputs": [
    {
     "data": {
      "text/plain": [
       "'/home/CMML_mini2_final'"
      ]
     },
     "execution_count": 2,
     "metadata": {},
     "output_type": "execute_result"
    }
   ],
   "source": [
    "import os\n",
    "os.chdir(\"../\")\n",
    "os.getcwd()"
   ]
  },
  {
   "cell_type": "code",
   "execution_count": 3,
   "id": "94f37211-96b7-4cbc-916e-abc4f5792821",
   "metadata": {},
   "outputs": [],
   "source": [
    "results_path = \"run_res/horizontal/GSE156478/\" ## path to integration latent results\n",
    "data_path = \"data/GSE156478/\" ## path to raw data and metadata\n",
    "save_path = \"bench_res\"  ## path to save the metrics results"
   ]
  },
  {
   "cell_type": "code",
   "execution_count": 4,
   "id": "a99e26ee-9d1c-4cdf-8181-2e290c1b6042",
   "metadata": {},
   "outputs": [],
   "source": [
    "# original data load ----\n",
    "# batch1\n",
    "path = data_path+\"/Control\"\n",
    "cell_names = pd.read_csv(path+'/RNA/barcodes.tsv', sep = '\\t', header=None, index_col=None)\n",
    "cell_names.columns =  ['cell_ids']\n",
    "X = csr_matrix(mmread(path+'/RNA/matrix.mtx').T)\n",
    "gene_names = pd.read_csv(path+'/RNA/features.tsv', sep = '\\t',  header=None, index_col=None)\n",
    "gene_names.columns =  ['gene_ids']\n",
    "adata_RNA = ad.AnnData(X, obs=pd.DataFrame(index=cell_names.cell_ids), var=pd.DataFrame(index = gene_names.gene_ids))\n",
    "adata_RNA.var_names_make_unique()\n",
    "# batch2\n",
    "path = data_path+\"/Stim\"\n",
    "cell_names = pd.read_csv(path+'/RNA/barcodes.tsv', sep = '\\t', header=None, index_col=None)\n",
    "cell_names.columns =  ['cell_ids']\n",
    "X = csr_matrix(mmread(path+'/RNA/matrix.mtx').T)\n",
    "peak_name = pd.read_csv(path+'/RNA/features.tsv',header=None,index_col=None)\n",
    "peak_name.columns = ['peak_ids']\n",
    "adata_rna  = ad.AnnData(X, obs=pd.DataFrame(index=cell_names.cell_ids), var=pd.DataFrame(index = peak_name.peak_ids))\n",
    "adata_rna.var['modality'] = ['Gene Expression']*adata_rna.shape[1]\n",
    "del X\n",
    "# # We can now use the organizing method from scvi to concatenate these anndata\n",
    "sc.pp.filter_cells(adata_RNA, min_genes=1)\n",
    "sc.pp.filter_genes(adata_RNA, min_cells=20)\n",
    "sc.pp.filter_cells(adata_rna, min_genes=1)\n",
    "sc.pp.filter_genes(adata_rna, min_cells=20)\n",
    "\n",
    "adata_RNA.obs_names = ['Ctrl_' + item for item in adata_RNA.obs_names]\n",
    "adata_rna.obs_names = ['Stim_' + item for item in adata_rna.obs_names]\n",
    "\n",
    "adata = sc.concat([adata_RNA, adata_rna],axis=0)\n",
    "adata.obs['batch'] = adata_RNA.shape[0]*['Ctrl'] + adata_rna.shape[0]*['Stim']\n",
    "del adata_RNA, adata_rna"
   ]
  },
  {
   "cell_type": "code",
   "execution_count": 6,
   "id": "a262af89-a7ce-4785-91ce-1aec1ca39de0",
   "metadata": {},
   "outputs": [],
   "source": [
    "# annotation load ----\n",
    "meta=pd.read_csv(data_path+\"metadata.csv\")\n",
    "meta=meta.rename(columns={\n",
    "    \"stim\":\"cond\",\n",
    "    \"predicted.celltype.l2\":\"cell_type\"\n",
    "})\n",
    "meta['cell_type'].index = adata.obs_names\n",
    "adata.obs['cell_type'] = meta['cell_type'].astype('category')"
   ]
  },
  {
   "cell_type": "code",
   "execution_count": 18,
   "id": "3765398c-a20d-49ee-a875-5790b8bbfe1f",
   "metadata": {},
   "outputs": [
    {
     "data": {
      "text/plain": [
       "Ctrl_AAACAGCCAAAGCGGC-1    CD4 Naive\n",
       "Ctrl_AAACAGCCAACAGGAT-1      CD4 TCM\n",
       "Ctrl_AAACAGCCAAGGTACG-1    CD4 Naive\n",
       "Ctrl_AAACAGCCAGGATGGC-1          gdT\n",
       "Ctrl_AAACAGCCATTCAGCA-1      CD4 TCM\n",
       "                             ...    \n",
       "Stim_TTTGTGTTCGACAAAG-2    CD8 Naive\n",
       "Stim_TTTGTTGGTAGCCATA-2    CD8 Naive\n",
       "Stim_TTTGTTGGTAGCCTAA-2         Treg\n",
       "Stim_TTTGTTGGTGCAATAT-2    CD4 Naive\n",
       "Stim_TTTGTTGGTTGGGTTA-2      CD4 TCM\n",
       "Name: cell_type, Length: 13383, dtype: category\n",
       "Categories (14, object): ['B intermediate', 'B naive', 'CD4 Naive', 'CD4 TCM', ..., 'MAIT', 'NK', 'Treg', 'gdT']"
      ]
     },
     "execution_count": 18,
     "metadata": {},
     "output_type": "execute_result"
    }
   ],
   "source": [
    "adata.obs['cell_type']"
   ]
  },
  {
   "cell_type": "code",
   "execution_count": 19,
   "id": "1417a552-25c6-46b2-bb7d-341a0acbd593",
   "metadata": {},
   "outputs": [
    {
     "name": "stdout",
     "output_type": "stream",
     "text": [
      "WARNING: cluster key cluster already exists in adata.obs and will be overwritten because force=True \n",
      "resolution: 0.1, nmi: 0.0014104090999529533\n",
      "resolution: 0.2, nmi: 0.0019911793550111993\n",
      "resolution: 0.3, nmi: 0.0023790660766987584\n",
      "resolution: 0.4, nmi: 0.002516287539276588\n",
      "resolution: 0.5, nmi: 0.0030021291043373604\n",
      "resolution: 0.6, nmi: 0.0031041453968779532\n",
      "resolution: 0.7, nmi: 0.0034222241397319805\n",
      "resolution: 0.8, nmi: 0.0036066195013077598\n",
      "resolution: 0.9, nmi: 0.0036140030753408292\n",
      "resolution: 1.0, nmi: 0.0038617952395246916\n",
      "resolution: 1.1, nmi: 0.0037667428653479344\n",
      "resolution: 1.2, nmi: 0.0038078714819605865\n",
      "resolution: 1.3, nmi: 0.003960658997609565\n",
      "resolution: 1.4, nmi: 0.004228056830362721\n",
      "resolution: 1.5, nmi: 0.00452665713445788\n",
      "resolution: 1.6, nmi: 0.004598854877541191\n",
      "resolution: 1.7, nmi: 0.004895194035812542\n",
      "resolution: 1.8, nmi: 0.005236382598387689\n",
      "resolution: 1.9, nmi: 0.00496101520047561\n",
      "resolution: 2.0, nmi: 0.005479034755023446\n",
      "optimised clustering against cell_type\n",
      "optimal cluster resolution: 2.0\n",
      "optimal score: 0.005479034755023446\n"
     ]
    },
    {
     "name": "stderr",
     "output_type": "stream",
     "text": [
      "/root/miniconda3/envs/metric-env/lib/python3.11/site-packages/scib/metrics/isolated_labels.py:272: FutureWarning: The default of observed=False is deprecated and will be changed to True in a future version of pandas. Pass observed=False to retain current behavior or observed=True to adopt the future default and silence this warning.\n",
      "  batch_per_lab = tmp.groupby(label_key).agg({batch_key: \"count\"})\n"
     ]
    }
   ],
   "source": [
    "metrics_list=[]\n",
    "# get MIRA results\n",
    "method=\"MIRA\"\n",
    "latent = pd.read_csv(results_path+\"MIRA.csv\", header = None)\n",
    "latent.index = adata.obs_names\n",
    "adata.obsm[method] = latent\n",
    "sc.pp.neighbors(adata, use_rep=method)\n",
    "sc.tl.umap(adata)\n",
    "sc.tl.leiden(adata, key_added=\"cluster\")\n",
    "scib.metrics.cluster_optimal_resolution(adata, cluster_key=\"cluster\", label_key=\"cell_type\")\n",
    "# compute\n",
    "ari = scib.metrics.ari(adata, cluster_key=\"cluster\", label_key=\"cell_type\")\n",
    "iso_asw = scib.metrics.isolated_labels_asw(adata, label_key=\"cell_type\", batch_key='batch', embed=method,  verbose = False)\n",
    "nmi = scib.metrics.nmi(adata, cluster_key=\"cluster\", label_key=\"cell_type\")\n",
    "# clisi = scib.metrics.clisi_graph(adata, label_key=\"cell_type\",use_rep=method, type_='embed')\n",
    "sht = scib.metrics.silhouette(adata, label_key=\"cell_type\", embed=method, metric='euclidean', scale=True)\n",
    "metrics_list.append([ari, iso_asw, nmi, sht, method])"
   ]
  },
  {
   "cell_type": "code",
   "execution_count": 21,
   "id": "219afda6-22e4-4876-8e3d-7ab57665daf4",
   "metadata": {},
   "outputs": [
    {
     "name": "stderr",
     "output_type": "stream",
     "text": [
      "/root/miniconda3/envs/metric-env/lib/python3.11/site-packages/scanpy/tools/_utils.py:41: UserWarning: You’re trying to run this on 15133 dimensions of `.X`, if you really want this, set `use_rep='X'`.\n",
      "         Falling back to preprocessing with `sc.pp.pca` and default params.\n",
      "  warnings.warn(\n"
     ]
    },
    {
     "name": "stdout",
     "output_type": "stream",
     "text": [
      "WARNING: cluster key cluster already exists in adata.obs and will be overwritten because force=True \n",
      "resolution: 0.1, nmi: 0.613138065665138\n",
      "resolution: 0.2, nmi: 0.6052908097996086\n",
      "resolution: 0.3, nmi: 0.5986507069726714\n",
      "resolution: 0.4, nmi: 0.5807279748049293\n",
      "resolution: 0.5, nmi: 0.5703397665675113\n",
      "resolution: 0.6, nmi: 0.5482153565018572\n",
      "resolution: 0.7, nmi: 0.5472498858005685\n",
      "resolution: 0.8, nmi: 0.5401900131844285\n",
      "resolution: 0.9, nmi: 0.5438165248460632\n",
      "resolution: 1.0, nmi: 0.5320320831225241\n",
      "resolution: 1.1, nmi: 0.5316158537826198\n",
      "resolution: 1.2, nmi: 0.5241059632053282\n",
      "resolution: 1.3, nmi: 0.5206865738758537\n",
      "resolution: 1.4, nmi: 0.5201020443828489\n",
      "resolution: 1.5, nmi: 0.5186160996044048\n",
      "resolution: 1.6, nmi: 0.5139955948752638\n",
      "resolution: 1.7, nmi: 0.5095346264798339\n",
      "resolution: 1.8, nmi: 0.4988271770346021\n",
      "resolution: 1.9, nmi: 0.5004196324357951\n",
      "resolution: 2.0, nmi: 0.5016007903851485\n",
      "optimised clustering against cell_type\n",
      "optimal cluster resolution: 0.1\n",
      "optimal score: 0.613138065665138\n"
     ]
    },
    {
     "name": "stderr",
     "output_type": "stream",
     "text": [
      "/root/miniconda3/envs/metric-env/lib/python3.11/site-packages/scib/metrics/isolated_labels.py:272: FutureWarning: The default of observed=False is deprecated and will be changed to True in a future version of pandas. Pass observed=False to retain current behavior or observed=True to adopt the future default and silence this warning.\n",
      "  batch_per_lab = tmp.groupby(label_key).agg({batch_key: \"count\"})\n",
      "/root/miniconda3/envs/metric-env/lib/python3.11/site-packages/anndata/compat/__init__.py:311: FutureWarning: Moving element from .uns['neighbors']['connectivities'] to .obsp['connectivities'].\n",
      "\n",
      "This is where adjacency matrices should go now.\n",
      "  warn(\n",
      "/root/miniconda3/envs/metric-env/lib/python3.11/site-packages/anndata/compat/__init__.py:311: FutureWarning: Moving element from .uns['neighbors']['connectivities'] to .obsp['connectivities'].\n",
      "\n",
      "This is where adjacency matrices should go now.\n",
      "  warn(\n",
      "/root/miniconda3/envs/metric-env/lib/python3.11/site-packages/anndata/compat/__init__.py:311: FutureWarning: Moving element from .uns['neighbors']['connectivities'] to .obsp['connectivities'].\n",
      "\n",
      "This is where adjacency matrices should go now.\n",
      "  warn(\n",
      "/root/miniconda3/envs/metric-env/lib/python3.11/site-packages/anndata/compat/__init__.py:311: FutureWarning: Moving element from .uns['neighbors']['connectivities'] to .obsp['connectivities'].\n",
      "\n",
      "This is where adjacency matrices should go now.\n",
      "  warn(\n",
      "/root/miniconda3/envs/metric-env/lib/python3.11/site-packages/anndata/compat/__init__.py:311: FutureWarning: Moving element from .uns['neighbors']['connectivities'] to .obsp['connectivities'].\n",
      "\n",
      "This is where adjacency matrices should go now.\n",
      "  warn(\n",
      "/root/miniconda3/envs/metric-env/lib/python3.11/site-packages/anndata/compat/__init__.py:311: FutureWarning: Moving element from .uns['neighbors']['connectivities'] to .obsp['connectivities'].\n",
      "\n",
      "This is where adjacency matrices should go now.\n",
      "  warn(\n",
      "/root/miniconda3/envs/metric-env/lib/python3.11/site-packages/anndata/compat/__init__.py:311: FutureWarning: Moving element from .uns['neighbors']['connectivities'] to .obsp['connectivities'].\n",
      "\n",
      "This is where adjacency matrices should go now.\n",
      "  warn(\n",
      "/root/miniconda3/envs/metric-env/lib/python3.11/site-packages/anndata/compat/__init__.py:311: FutureWarning: Moving element from .uns['neighbors']['connectivities'] to .obsp['connectivities'].\n",
      "\n",
      "This is where adjacency matrices should go now.\n",
      "  warn(\n",
      "/root/miniconda3/envs/metric-env/lib/python3.11/site-packages/anndata/compat/__init__.py:311: FutureWarning: Moving element from .uns['neighbors']['connectivities'] to .obsp['connectivities'].\n",
      "\n",
      "This is where adjacency matrices should go now.\n",
      "  warn(\n",
      "/root/miniconda3/envs/metric-env/lib/python3.11/site-packages/anndata/compat/__init__.py:311: FutureWarning: Moving element from .uns['neighbors']['connectivities'] to .obsp['connectivities'].\n",
      "\n",
      "This is where adjacency matrices should go now.\n",
      "  warn(\n",
      "/root/miniconda3/envs/metric-env/lib/python3.11/site-packages/anndata/compat/__init__.py:311: FutureWarning: Moving element from .uns['neighbors']['connectivities'] to .obsp['connectivities'].\n",
      "\n",
      "This is where adjacency matrices should go now.\n",
      "  warn(\n",
      "/root/miniconda3/envs/metric-env/lib/python3.11/site-packages/anndata/compat/__init__.py:311: FutureWarning: Moving element from .uns['neighbors']['connectivities'] to .obsp['connectivities'].\n",
      "\n",
      "This is where adjacency matrices should go now.\n",
      "  warn(\n",
      "/root/miniconda3/envs/metric-env/lib/python3.11/site-packages/anndata/compat/__init__.py:311: FutureWarning: Moving element from .uns['neighbors']['connectivities'] to .obsp['connectivities'].\n",
      "\n",
      "This is where adjacency matrices should go now.\n",
      "  warn(\n",
      "/root/miniconda3/envs/metric-env/lib/python3.11/site-packages/anndata/compat/__init__.py:311: FutureWarning: Moving element from .uns['neighbors']['connectivities'] to .obsp['connectivities'].\n",
      "\n",
      "This is where adjacency matrices should go now.\n",
      "  warn(\n"
     ]
    },
    {
     "name": "stdout",
     "output_type": "stream",
     "text": [
      "WARNING: cluster key cluster already exists in adata.obs and will be overwritten because force=True \n",
      "resolution: 0.1, nmi: 0.6127586115384228\n",
      "resolution: 0.2, nmi: 0.6316454623704831\n",
      "resolution: 0.3, nmi: 0.6160760499018771\n",
      "resolution: 0.4, nmi: 0.5799488067123815\n",
      "resolution: 0.5, nmi: 0.5872744626516901\n",
      "resolution: 0.6, nmi: 0.5853982972825982\n",
      "resolution: 0.7, nmi: 0.5878068756435227\n",
      "resolution: 0.8, nmi: 0.5620915057214709\n",
      "resolution: 0.9, nmi: 0.5444789591806941\n",
      "resolution: 1.0, nmi: 0.5494914142678594\n",
      "resolution: 1.1, nmi: 0.5408018570506732\n",
      "resolution: 1.2, nmi: 0.5396725368381445\n",
      "resolution: 1.3, nmi: 0.533936323384717\n",
      "resolution: 1.4, nmi: 0.5300330801725958\n",
      "resolution: 1.5, nmi: 0.5251278913679921\n",
      "resolution: 1.6, nmi: 0.5204394445729845\n",
      "resolution: 1.7, nmi: 0.5217677528598919\n",
      "resolution: 1.8, nmi: 0.5225466501110038\n",
      "resolution: 1.9, nmi: 0.5188551448345727\n",
      "resolution: 2.0, nmi: 0.5152961226521711\n",
      "optimised clustering against cell_type\n",
      "optimal cluster resolution: 0.2\n",
      "optimal score: 0.6316454623704831\n"
     ]
    },
    {
     "name": "stderr",
     "output_type": "stream",
     "text": [
      "/root/miniconda3/envs/metric-env/lib/python3.11/site-packages/scib/metrics/isolated_labels.py:272: FutureWarning: The default of observed=False is deprecated and will be changed to True in a future version of pandas. Pass observed=False to retain current behavior or observed=True to adopt the future default and silence this warning.\n",
      "  batch_per_lab = tmp.groupby(label_key).agg({batch_key: \"count\"})\n",
      "/root/miniconda3/envs/metric-env/lib/python3.11/site-packages/anndata/compat/__init__.py:311: FutureWarning: Moving element from .uns['neighbors']['connectivities'] to .obsp['connectivities'].\n",
      "\n",
      "This is where adjacency matrices should go now.\n",
      "  warn(\n",
      "/root/miniconda3/envs/metric-env/lib/python3.11/site-packages/anndata/compat/__init__.py:311: FutureWarning: Moving element from .uns['neighbors']['connectivities'] to .obsp['connectivities'].\n",
      "\n",
      "This is where adjacency matrices should go now.\n",
      "  warn(\n",
      "/root/miniconda3/envs/metric-env/lib/python3.11/site-packages/anndata/compat/__init__.py:311: FutureWarning: Moving element from .uns['neighbors']['connectivities'] to .obsp['connectivities'].\n",
      "\n",
      "This is where adjacency matrices should go now.\n",
      "  warn(\n",
      "/root/miniconda3/envs/metric-env/lib/python3.11/site-packages/anndata/compat/__init__.py:311: FutureWarning: Moving element from .uns['neighbors']['connectivities'] to .obsp['connectivities'].\n",
      "\n",
      "This is where adjacency matrices should go now.\n",
      "  warn(\n",
      "/root/miniconda3/envs/metric-env/lib/python3.11/site-packages/anndata/compat/__init__.py:311: FutureWarning: Moving element from .uns['neighbors']['connectivities'] to .obsp['connectivities'].\n",
      "\n",
      "This is where adjacency matrices should go now.\n",
      "  warn(\n",
      "/root/miniconda3/envs/metric-env/lib/python3.11/site-packages/anndata/compat/__init__.py:311: FutureWarning: Moving element from .uns['neighbors']['connectivities'] to .obsp['connectivities'].\n",
      "\n",
      "This is where adjacency matrices should go now.\n",
      "  warn(\n",
      "/root/miniconda3/envs/metric-env/lib/python3.11/site-packages/anndata/compat/__init__.py:311: FutureWarning: Moving element from .uns['neighbors']['connectivities'] to .obsp['connectivities'].\n",
      "\n",
      "This is where adjacency matrices should go now.\n",
      "  warn(\n",
      "/root/miniconda3/envs/metric-env/lib/python3.11/site-packages/anndata/compat/__init__.py:311: FutureWarning: Moving element from .uns['neighbors']['connectivities'] to .obsp['connectivities'].\n",
      "\n",
      "This is where adjacency matrices should go now.\n",
      "  warn(\n",
      "/root/miniconda3/envs/metric-env/lib/python3.11/site-packages/anndata/compat/__init__.py:311: FutureWarning: Moving element from .uns['neighbors']['connectivities'] to .obsp['connectivities'].\n",
      "\n",
      "This is where adjacency matrices should go now.\n",
      "  warn(\n",
      "/root/miniconda3/envs/metric-env/lib/python3.11/site-packages/anndata/compat/__init__.py:311: FutureWarning: Moving element from .uns['neighbors']['connectivities'] to .obsp['connectivities'].\n",
      "\n",
      "This is where adjacency matrices should go now.\n",
      "  warn(\n",
      "/root/miniconda3/envs/metric-env/lib/python3.11/site-packages/anndata/compat/__init__.py:311: FutureWarning: Moving element from .uns['neighbors']['connectivities'] to .obsp['connectivities'].\n",
      "\n",
      "This is where adjacency matrices should go now.\n",
      "  warn(\n",
      "/root/miniconda3/envs/metric-env/lib/python3.11/site-packages/anndata/compat/__init__.py:311: FutureWarning: Moving element from .uns['neighbors']['connectivities'] to .obsp['connectivities'].\n",
      "\n",
      "This is where adjacency matrices should go now.\n",
      "  warn(\n",
      "/root/miniconda3/envs/metric-env/lib/python3.11/site-packages/anndata/compat/__init__.py:311: FutureWarning: Moving element from .uns['neighbors']['connectivities'] to .obsp['connectivities'].\n",
      "\n",
      "This is where adjacency matrices should go now.\n",
      "  warn(\n",
      "/root/miniconda3/envs/metric-env/lib/python3.11/site-packages/anndata/compat/__init__.py:311: FutureWarning: Moving element from .uns['neighbors']['connectivities'] to .obsp['connectivities'].\n",
      "\n",
      "This is where adjacency matrices should go now.\n",
      "  warn(\n"
     ]
    }
   ],
   "source": [
    "# benchmark res\n",
    "methods = [\"Seurat\",\"PCA\"]\n",
    "for method in methods:\n",
    "    con = mmread(results_path + method + '_connectivities.mtx')\n",
    "    dis = mmread(results_path + method + '_distance.mtx')\n",
    "    adata.uns['neighbors'] = {'connectivities_key': 'connectivities', 'distances_key': 'distances', \n",
    "                              'params': {'n_neighbors': 20, 'method': 'umap', 'random_state': 0, \n",
    "                              'metric': 'euclidean'}}\n",
    "    adata.uns['neighbors']['distance'] = csr_matrix(dis)\n",
    "    adata.uns['neighbors']['connectivities'] = csr_matrix(con)\n",
    "    adata.obsp['distance'] = csr_matrix(dis)\n",
    "    adata.obsp['connectivities'] = csr_matrix(con)\n",
    "    # get clusters\n",
    "    sc.tl.umap(adata, n_components=20)\n",
    "    scib.metrics.cluster_optimal_resolution(adata, cluster_key=\"cluster\", label_key=\"cell_type\")\n",
    "    # calculate metrics\n",
    "    ari = scib.metrics.ari(adata, cluster_key=\"cluster\", label_key=\"cell_type\")\n",
    "    iso_asw = scib.metrics.isolated_labels_asw(adata, label_key=\"cell_type\", batch_key='batch', embed=\"X_umap\",  verbose = False)\n",
    "    nmi = scib.metrics.nmi(adata, cluster_key=\"cluster\", label_key=\"cell_type\")\n",
    "    # clisi = scib.metrics.clisi_graph(adata, label_key=\"cell_type\",use_rep=method, type_='embed')\n",
    "    sht = scib.metrics.silhouette(adata, label_key=\"cell_type\", embed=\"X_umap\", metric='euclidean', scale=True)\n",
    "    metrics_list.append([ari, iso_asw, nmi, sht, method])"
   ]
  },
  {
   "cell_type": "code",
   "execution_count": 22,
   "id": "16dc5c5f-9fad-4d88-989c-523007676077",
   "metadata": {},
   "outputs": [
    {
     "data": {
      "text/plain": [
       "[[0.00015868857652281935,\n",
       "  0.4843852641788765,\n",
       "  0.005479034755023446,\n",
       "  0.4820467051759265,\n",
       "  'MIRA'],\n",
       " [0.5805248544486977,\n",
       "  0.5645443862304091,\n",
       "  0.6131380656651377,\n",
       "  0.5915808379650116,\n",
       "  'Seurat'],\n",
       " [0.6229998110456757,\n",
       "  0.565419359165909,\n",
       "  0.631645462370483,\n",
       "  0.5824712887406349,\n",
       "  'PCA']]"
      ]
     },
     "execution_count": 22,
     "metadata": {},
     "output_type": "execute_result"
    }
   ],
   "source": [
    "metrics_list"
   ]
  },
  {
   "cell_type": "code",
   "execution_count": 23,
   "id": "11eae4a4-b883-4f42-bf3b-0af530a9a270",
   "metadata": {},
   "outputs": [],
   "source": [
    "# save\n",
    "df = pd.DataFrame(metrics_list,columns = ['ari', 'iso_asw', 'nmi', 'sht','method'])\n",
    "df['Dataset'] = \"GSE156478\"\n",
    "\n",
    "bench_path=\"bench_res/horizontal\"\n",
    "df.to_csv(bench_path + \"/metrics_result.csv\",index = False)"
   ]
  }
 ],
 "metadata": {
  "kernelspec": {
   "display_name": "metric-env",
   "language": "python",
   "name": "metric-env"
  },
  "language_info": {
   "codemirror_mode": {
    "name": "ipython",
    "version": 3
   },
   "file_extension": ".py",
   "mimetype": "text/x-python",
   "name": "python",
   "nbconvert_exporter": "python",
   "pygments_lexer": "ipython3",
   "version": "3.11.12"
  }
 },
 "nbformat": 4,
 "nbformat_minor": 5
}
