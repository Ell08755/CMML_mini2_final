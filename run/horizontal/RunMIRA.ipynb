{
 "cells": [
  {
   "cell_type": "code",
   "execution_count": 1,
   "id": "cc903f22-e8ee-4fb5-ac50-cf8dc9ce4a85",
   "metadata": {},
   "outputs": [],
   "source": [
    "from scipy.io import mmread\n",
    "from scipy.sparse import csr_matrix\n",
    "import anndata as ad\n",
    "import os, sys, time\n",
    "import mira\n",
    "import numpy as np\n",
    "import pandas as pd\n",
    "import scanpy as sc\n",
    "import matplotlib.pyplot as plt\n",
    "import seaborn as sns\n",
    "import logging\n",
    "logging.getLogger().setLevel(logging.INFO)"
   ]
  },
  {
   "cell_type": "code",
   "execution_count": 2,
   "id": "a86d8746-41ab-4ac3-a06d-7866b2a8646d",
   "metadata": {},
   "outputs": [
    {
     "data": {
      "text/plain": [
       "'/home/CMML_mini2_final'"
      ]
     },
     "execution_count": 2,
     "metadata": {},
     "output_type": "execute_result"
    }
   ],
   "source": [
    "os.chdir(\"../../\")\n",
    "os.getcwd()"
   ]
  },
  {
   "cell_type": "code",
   "execution_count": 5,
   "id": "066f8ecd-5228-400f-9846-c972db32847a",
   "metadata": {},
   "outputs": [],
   "source": [
    "# remember to set the working directory to the root of the project\n",
    "# the dataset_id and batch_name should be set according to the dataset you are using, following just an example\n",
    "dataset_id = \"GSE156478\"\n",
    "batches=['Control',\"Stim\"]\n",
    "\n",
    "save_path = \"run_res/horizontal/\"+dataset_id  ## path to save results\n",
    "data_path = \"data/GSE156478/\" ## data path"
   ]
  },
  {
   "cell_type": "code",
   "execution_count": 6,
   "id": "b7893a1f-552f-4f5e-9649-7242d90e2781",
   "metadata": {},
   "outputs": [
    {
     "name": "stdout",
     "output_type": "stream",
     "text": [
      "load Control\n",
      "load Stim\n"
     ]
    }
   ],
   "source": [
    "adata_list = []\n",
    "for i,batch_name in enumerate(batches):\n",
    "    print(\"load\",batch_name)\n",
    "    path = data_path+batch_name\n",
    "    # RNA info\n",
    "    cell_names = pd.read_csv(path+'/RNA/barcodes.tsv', sep = '\\t', header=None, index_col=None)\n",
    "    cell_names.columns =  ['cell_ids']\n",
    "    X = csr_matrix(mmread(path+'/RNA/matrix.mtx').T)\n",
    "    gene_names = pd.read_csv(path+'/RNA/features.tsv', sep = '\\t',  header=None, index_col=None)\n",
    "    gene_names.columns =  ['gene_ids']\n",
    "    adata_RNA = ad.AnnData(X, obs=pd.DataFrame(index=cell_names.cell_ids), var=pd.DataFrame(index = gene_names.gene_ids))\n",
    "    adata_RNA.var_names_make_unique()\n",
    "    \n",
    "    # peak information\n",
    "    cell_names = pd.read_csv(path+'/ATAC/barcodes.tsv', sep = '\\t', header=None, index_col=None)\n",
    "    cell_names.columns =  ['cell_ids']\n",
    "    X = csr_matrix(mmread(path+'/ATAC/matrix.mtx').T)\n",
    "    peak_name = pd.read_csv(path+'/ATAC/features.tsv',header=None,index_col=None)\n",
    "    peak_name.columns = ['peak_ids']\n",
    "    adata_ATAC = ad.AnnData(X, obs=pd.DataFrame(index=cell_names.cell_ids), var=pd.DataFrame(index = peak_name.peak_ids))\n",
    "    \n",
    "    adata_paired = ad.concat([adata_RNA, adata_ATAC], merge=\"same\", axis=1)\n",
    "    # add modality\n",
    "    modalities = ['Gene Expression'] * adata_RNA.shape[1] + ['Peaks'] * adata_ATAC.shape[1]\n",
    "    adata_paired.var['modality'] = modalities\n",
    "    # add batch\n",
    "    adata_paired.obs['batch'] = batch_name\n",
    "    # add to list\n",
    "    adata_list.append(adata_paired)"
   ]
  },
  {
   "cell_type": "code",
   "execution_count": 7,
   "id": "3dfbbf3b-32bb-41a4-8323-1119b4d9b6e1",
   "metadata": {},
   "outputs": [
    {
     "data": {
      "text/plain": [
       "[AnnData object with n_obs × n_vars = 7468 × 102942\n",
       "     obs: 'batch'\n",
       "     var: 'modality',\n",
       " AnnData object with n_obs × n_vars = 5915 × 102971\n",
       "     obs: 'batch'\n",
       "     var: 'modality']"
      ]
     },
     "execution_count": 7,
     "metadata": {},
     "output_type": "execute_result"
    }
   ],
   "source": [
    "adata_list"
   ]
  },
  {
   "cell_type": "code",
   "execution_count": null,
   "id": "fd90eded-348a-4cb2-9d31-e96f0f1453be",
   "metadata": {},
   "outputs": [],
   "source": [
    "# automate expand if features are not the same\n",
    "adata = ad.concat(adata_list, axis=0, index_unique='-', join=\"outer\")"
   ]
  },
  {
   "cell_type": "code",
   "execution_count": null,
   "id": "a7c262ce-f098-4c4d-be6c-fa6f8ff47f61",
   "metadata": {},
   "outputs": [],
   "source": [
    "modality = np.array(['Gene Expression'] * adata.shape[1])\n",
    "modality[np.char.startswith(adata.var_names.values.astype(str), 'chr')] = 'Peaks'\n",
    "adata.var['modality'] = modality"
   ]
  },
  {
   "cell_type": "code",
   "execution_count": null,
   "id": "d3503436-9212-44c9-b937-523d43929687",
   "metadata": {},
   "outputs": [],
   "source": [
    "sum(adata.var['modality']==\"Peaks\")"
   ]
  },
  {
   "cell_type": "code",
   "execution_count": null,
   "id": "fc70fd84-e4f0-4fbf-b565-4195b619cddc",
   "metadata": {},
   "outputs": [],
   "source": [
    "adata_rna = adata[:,adata.var['modality']=='Gene Expression']\n",
    "adata_atac = adata[:,adata.var['modality']=='Peaks']"
   ]
  },
  {
   "cell_type": "code",
   "execution_count": null,
   "id": "fa59d9b9-c564-49e5-8ffa-2e32c3d06137",
   "metadata": {},
   "outputs": [],
   "source": [
    "adata_atac"
   ]
  },
  {
   "cell_type": "code",
   "execution_count": null,
   "id": "9eb14d22-1564-4a71-8457-c544f7cf751a",
   "metadata": {},
   "outputs": [],
   "source": [
    "del adata_list, adata_RNA, adata_ATAC, adata_paired\n",
    "del adata\n",
    "print(\"data load finish\")"
   ]
  },
  {
   "cell_type": "code",
   "execution_count": null,
   "id": "ab41f65f-724d-49c8-9bab-0d187c625a21",
   "metadata": {},
   "outputs": [],
   "source": [
    "adata_rna.var.index = adata_rna.var.index.str.upper()\n",
    "adata_rna.var_names_make_unique()\n",
    "\n",
    "sc.pp.filter_genes(adata_rna, min_cells=20)\n",
    "rawdata = adata_rna.X.copy()\n",
    "\n",
    "sc.pp.highly_variable_genes(\n",
    "    adata_rna,\n",
    "    batch_key=\"batch\",\n",
    "    flavor=\"seurat_v3\",\n",
    "    n_top_genes=4000,\n",
    "    subset=False\n",
    ")\n",
    "\n",
    "sc.pp.normalize_total(adata_rna, target_sum=1e4)\n",
    "sc.pp.log1p(adata_rna)\n",
    "# sc.pp.highly_variable_genes(adata_rna, min_disp = 0.0001,n_top_genes=2990)\n",
    "adata_rna.layers['counts'] = rawdata\n",
    "adata_rna = adata_rna[:, adata_rna.var.highly_variable].copy()\n",
    "del rawdata"
   ]
  },
  {
   "cell_type": "code",
   "execution_count": null,
   "id": "a205e0c8-2782-4380-bee6-ce0b051fefa2",
   "metadata": {},
   "outputs": [],
   "source": [
    "adata_rna"
   ]
  },
  {
   "cell_type": "code",
   "execution_count": null,
   "id": "48c811fd-f11b-46be-81b5-1230ea962179",
   "metadata": {},
   "outputs": [],
   "source": [
    "model_rna = mira.topics.make_model(\n",
    "    adata_rna.n_obs, adata_rna.n_vars, # helps MIRA choose reasonable values for some hyperparameters which are not tuned.\n",
    "    feature_type = 'expression',\n",
    "    highly_variable_key='highly_variable',\n",
    "    counts_layer='counts',\n",
    "    categorical_covariates='batch'\n",
    ")\n",
    "\n",
    "learn_rate = model_rna.get_learning_rate_bounds(adata_rna)\n",
    "# model_rna.plot_learning_rate_bounds(figsize=(7,3))"
   ]
  },
  {
   "cell_type": "code",
   "execution_count": null,
   "id": "05d144fb-bb2a-40f4-b235-4511d0ed8edc",
   "metadata": {},
   "outputs": [],
   "source": [
    "model_rna.set_learning_rates(learn_rate[0], learn_rate[1]) # for larger datasets, the default of 1e-3, 0.1 usually works well.\n",
    "\n",
    "topic_contributions = mira.topics.gradient_tune(model_rna, adata_rna)\n",
    "NUM_TOPICS = int(sum(np.array(topic_contributions)>0.05))\n",
    "# mira.pl.plot_topic_contributions(topic_contributions, NUM_TOPICS)\n",
    "model_rna = model_rna.set_params(num_topics = NUM_TOPICS).fit(adata_rna)\n",
    "model_rna.predict(adata_rna)\n",
    "print(\"RNA model finished\")"
   ]
  },
  {
   "cell_type": "code",
   "execution_count": null,
   "id": "476a6bb0-0972-4593-83cf-81ee4319306a",
   "metadata": {},
   "outputs": [],
   "source": [
    "mira.pl.plot_topic_contributions(topic_contributions, NUM_TOPICS)"
   ]
  },
  {
   "cell_type": "code",
   "execution_count": null,
   "id": "ec62f710-f888-4f31-8942-eb854fc418c3",
   "metadata": {},
   "outputs": [],
   "source": [
    "adata_atac"
   ]
  },
  {
   "cell_type": "code",
   "execution_count": null,
   "id": "abb8cace-f038-49c1-9eca-d45fc9897549",
   "metadata": {},
   "outputs": [],
   "source": [
    "sc.pp.filter_cells(adata_atac, min_genes=10)\n",
    "sc.pp.filter_genes(adata_atac, min_cells=1)\n",
    "# highly variable version\n",
    "sc.pp.highly_variable_genes(\n",
    "   adata_atac,\n",
    "   batch_key=\"batch\",\n",
    "   flavor=\"seurat_v3\",\n",
    "   n_top_genes=30000,\n",
    "   subset=False\n",
    ")\n",
    "model_atac = mira.topics.make_model(\n",
    "    *adata_atac.shape,\n",
    "    feature_type = 'accessibility',\n",
    "    endogenous_key='highly_variable', # which peaks are used by the encoder network\n",
    "    categorical_covariates='batch'\n",
    ")"
   ]
  },
  {
   "cell_type": "code",
   "execution_count": null,
   "id": "4b738e20-2e37-4fbd-ae3f-dc9c8a1bc9db",
   "metadata": {},
   "outputs": [],
   "source": [
    "\n",
    "learn_rate = model_atac.get_learning_rate_bounds(adata_atac)\n",
    "model_atac.set_learning_rates(learn_rate[0], learn_rate[1]) # for larger datasets, the default of 1e-3, 0.1 usually works well.\n",
    "# model.plot_learning_rate_bounds(figsize=(7,3))\n",
    "topic_contributions = mira.topics.gradient_tune(model_atac, adata_atac)\n",
    "\n",
    "NUM_TOPICS = int(sum(np.array(topic_contributions)>0.05))\n",
    "# mira.pl.plot_topic_contributions(topic_contributions, NUM_TOPICS)\n",
    "model_atac = model_atac.set_params(num_topics = NUM_TOPICS).fit(adata_atac)\n",
    "\n",
    "model_atac.predict(adata_atac)\n",
    "adata_atac.obsm['X_umap_features'].shape\n",
    "print(\"ATAC model finished\")\n",
    "\n",
    "adata_rna, adata_atac = mira.utils.make_joint_representation(adata_rna, adata_atac)\n",
    "latent = adata_atac.obsm['X_joint_umap_features']\n",
    "np.savetxt(save_path+dataset_id+\"_latent_MIRA.csv\", latent, delimiter=',')"
   ]
  }
 ],
 "metadata": {
  "kernelspec": {
   "display_name": "mira-env",
   "language": "python",
   "name": "mira-env"
  },
  "language_info": {
   "codemirror_mode": {
    "name": "ipython",
    "version": 3
   },
   "file_extension": ".py",
   "mimetype": "text/x-python",
   "name": "python",
   "nbconvert_exporter": "python",
   "pygments_lexer": "ipython3",
   "version": "3.9.0"
  }
 },
 "nbformat": 4,
 "nbformat_minor": 5
}
